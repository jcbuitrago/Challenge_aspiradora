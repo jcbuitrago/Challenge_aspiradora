{
  "nbformat": 4,
  "nbformat_minor": 0,
  "metadata": {
    "colab": {
      "name": "Primer_notebook",
      "provenance": [],
      "collapsed_sections": [],
      "authorship_tag": "ABX9TyM7CiT80p0ThdOeu1rgsqG1",
      "include_colab_link": true
    },
    "kernelspec": {
      "name": "python3",
      "display_name": "Python 3"
    },
    "language_info": {
      "name": "python"
    }
  },
  "cells": [
    {
      "cell_type": "markdown",
      "metadata": {
        "id": "view-in-github",
        "colab_type": "text"
      },
      "source": [
        "<a href=\"https://colab.research.google.com/github/jcbuitrago/Challenge_aspiradora/blob/main/Primer_notebook.ipynb\" target=\"_parent\"><img src=\"https://colab.research.google.com/assets/colab-badge.svg\" alt=\"Open In Colab\"/></a>"
      ]
    },
    {
      "cell_type": "code",
      "execution_count": null,
      "metadata": {
        "id": "APAH27VfIEoJ"
      },
      "outputs": [],
      "source": [
        "Esta es una prueba para la nube en el google colab"
      ]
    }
  ]
}